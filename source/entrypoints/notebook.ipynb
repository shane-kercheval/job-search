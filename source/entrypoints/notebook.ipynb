{
 "cells": [
  {
   "cell_type": "code",
   "execution_count": 6,
   "metadata": {},
   "outputs": [],
   "source": [
    "import sys\n",
    "sys.path.append('../..')"
   ]
  },
  {
   "cell_type": "code",
   "execution_count": 13,
   "metadata": {},
   "outputs": [
    {
     "name": "stdout",
     "output_type": "stream",
     "text": [
      "Elapsed Time: 0.0 seconds\n",
      "166\n"
     ]
    },
    {
     "data": {
      "text/html": [
       "<div>\n",
       "<style scoped>\n",
       "    .dataframe tbody tr th:only-of-type {\n",
       "        vertical-align: middle;\n",
       "    }\n",
       "\n",
       "    .dataframe tbody tr th {\n",
       "        vertical-align: top;\n",
       "    }\n",
       "\n",
       "    .dataframe thead th {\n",
       "        text-align: right;\n",
       "    }\n",
       "</style>\n",
       "<table border=\"1\" class=\"dataframe\">\n",
       "  <thead>\n",
       "    <tr style=\"text-align: right;\">\n",
       "      <th></th>\n",
       "      <th>snapshot</th>\n",
       "      <th>company</th>\n",
       "      <th>title</th>\n",
       "      <th>location</th>\n",
       "      <th>url</th>\n",
       "      <th>description</th>\n",
       "    </tr>\n",
       "  </thead>\n",
       "  <tbody>\n",
       "    <tr>\n",
       "      <th>0</th>\n",
       "      <td>2022-10-10 21:11:33</td>\n",
       "      <td>Anaconda</td>\n",
       "      <td>Project Manager III</td>\n",
       "      <td>Remote - US</td>\n",
       "      <td>https://boards.greenhouse.io/anaconda/jobs/455...</td>\n",
       "      <td>&lt;div class=\"accessible\" id=\"main\"&gt;\\n&lt;div id=\"a...</td>\n",
       "    </tr>\n",
       "    <tr>\n",
       "      <th>1</th>\n",
       "      <td>2022-10-10 21:11:33</td>\n",
       "      <td>Anaconda</td>\n",
       "      <td>Manager, Engineering (Distro)</td>\n",
       "      <td>Remote- Germany, UK</td>\n",
       "      <td>https://boards.greenhouse.io/anaconda/jobs/455...</td>\n",
       "      <td>&lt;div class=\"accessible\" id=\"main\"&gt;\\n&lt;div id=\"a...</td>\n",
       "    </tr>\n",
       "    <tr>\n",
       "      <th>2</th>\n",
       "      <td>2022-10-10 21:11:33</td>\n",
       "      <td>Anaconda</td>\n",
       "      <td>Software Engineer III (Distro)</td>\n",
       "      <td>Remote - US</td>\n",
       "      <td>https://boards.greenhouse.io/anaconda/jobs/354...</td>\n",
       "      <td>&lt;div class=\"accessible\" id=\"main\"&gt;\\n&lt;div id=\"a...</td>\n",
       "    </tr>\n",
       "    <tr>\n",
       "      <th>3</th>\n",
       "      <td>2022-10-10 21:11:33</td>\n",
       "      <td>Anaconda</td>\n",
       "      <td>Sr. Product Manager, Infrastructure</td>\n",
       "      <td>Remote, US</td>\n",
       "      <td>https://boards.greenhouse.io/anaconda/jobs/461...</td>\n",
       "      <td>&lt;div class=\"accessible\" id=\"main\"&gt;\\n&lt;div id=\"a...</td>\n",
       "    </tr>\n",
       "    <tr>\n",
       "      <th>4</th>\n",
       "      <td>2022-10-10 21:11:33</td>\n",
       "      <td>Anaconda</td>\n",
       "      <td>Sr. QA Automation Engineer (Insights)</td>\n",
       "      <td>Remote - US, UK</td>\n",
       "      <td>https://boards.greenhouse.io/anaconda/jobs/461...</td>\n",
       "      <td>&lt;div class=\"accessible\" id=\"main\"&gt;\\n&lt;div id=\"a...</td>\n",
       "    </tr>\n",
       "  </tbody>\n",
       "</table>\n",
       "</div>"
      ],
      "text/plain": [
       "              snapshot   company                                  title  \\\n",
       "0  2022-10-10 21:11:33  Anaconda                    Project Manager III   \n",
       "1  2022-10-10 21:11:33  Anaconda          Manager, Engineering (Distro)   \n",
       "2  2022-10-10 21:11:33  Anaconda         Software Engineer III (Distro)   \n",
       "3  2022-10-10 21:11:33  Anaconda    Sr. Product Manager, Infrastructure   \n",
       "4  2022-10-10 21:11:33  Anaconda  Sr. QA Automation Engineer (Insights)   \n",
       "\n",
       "              location                                                url  \\\n",
       "0          Remote - US  https://boards.greenhouse.io/anaconda/jobs/455...   \n",
       "1  Remote- Germany, UK  https://boards.greenhouse.io/anaconda/jobs/455...   \n",
       "2          Remote - US  https://boards.greenhouse.io/anaconda/jobs/354...   \n",
       "3           Remote, US  https://boards.greenhouse.io/anaconda/jobs/461...   \n",
       "4      Remote - US, UK  https://boards.greenhouse.io/anaconda/jobs/461...   \n",
       "\n",
       "                                         description  \n",
       "0  <div class=\"accessible\" id=\"main\">\\n<div id=\"a...  \n",
       "1  <div class=\"accessible\" id=\"main\">\\n<div id=\"a...  \n",
       "2  <div class=\"accessible\" id=\"main\">\\n<div id=\"a...  \n",
       "3  <div class=\"accessible\" id=\"main\">\\n<div id=\"a...  \n",
       "4  <div class=\"accessible\" id=\"main\">\\n<div id=\"a...  "
      ]
     },
     "execution_count": 13,
     "metadata": {},
     "output_type": "execute_result"
    }
   ],
   "source": [
    "from helpsk.database import Sqlite\n",
    "\n",
    "db = Sqlite(path='../../data/jobs.db')\n",
    "with db:\n",
    "    all_records = db.query(\"SELECT * FROM JOBS\")\n",
    "\n",
    "print(len(all_records))\n",
    "all_records.head()"
   ]
  },
  {
   "cell_type": "code",
   "execution_count": 11,
   "metadata": {},
   "outputs": [
    {
     "data": {
      "text/plain": [
       "array(['2022-10-10 21:11:33', '2022-10-10 21:19:33'], dtype=object)"
      ]
     },
     "execution_count": 11,
     "metadata": {},
     "output_type": "execute_result"
    }
   ],
   "source": [
    "all_records['snapshot'].unique()"
   ]
  },
  {
   "cell_type": "code",
   "execution_count": 12,
   "metadata": {},
   "outputs": [
    {
     "name": "stdout",
     "output_type": "stream",
     "text": [
      "Elapsed Time: 0.0 seconds\n",
      "83\n"
     ]
    }
   ],
   "source": [
    "from source.service.database import load_job_infos\n",
    "\n",
    "jobs = load_job_infos(db)\n",
    "print(len(jobs))"
   ]
  },
  {
   "cell_type": "code",
   "execution_count": 10,
   "metadata": {},
   "outputs": [
    {
     "name": "stdout",
     "output_type": "stream",
     "text": [
      "Anaconda\n",
      "Project Manager III\n",
      "Remote - US\n",
      "https://boards.greenhouse.io/anaconda/jobs/4550376\n"
     ]
    }
   ],
   "source": [
    "print(jobs[0].company)\n",
    "print(jobs[0].title)\n",
    "print(jobs[0].location)\n",
    "print(jobs[0].url)"
   ]
  },
  {
   "cell_type": "code",
   "execution_count": 14,
   "metadata": {},
   "outputs": [
    {
     "name": "stdout",
     "output_type": "stream",
     "text": [
      "Elapsed Time: 0.0 seconds\n",
      "         MAX(snapshot)\n",
      "0  2022-10-10 21:11:33\n"
     ]
    }
   ],
   "source": [
    "with db:\n",
    "    print(db.query(\"SELECT MAX(snapshot) FROM JOBS\"))"
   ]
  }
 ],
 "metadata": {
  "kernelspec": {
   "display_name": "Python 3.10.6 ('job-search')",
   "language": "python",
   "name": "python3"
  },
  "language_info": {
   "codemirror_mode": {
    "name": "ipython",
    "version": 3
   },
   "file_extension": ".py",
   "mimetype": "text/x-python",
   "name": "python",
   "nbconvert_exporter": "python",
   "pygments_lexer": "ipython3",
   "version": "3.10.6"
  },
  "orig_nbformat": 4,
  "vscode": {
   "interpreter": {
    "hash": "7d049bdedc6b2482191ca0579ff8af17e2043dbaf90d32105a207642514b565e"
   }
  }
 },
 "nbformat": 4,
 "nbformat_minor": 2
}
